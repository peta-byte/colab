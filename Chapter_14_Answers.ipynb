{
  "nbformat": 4,
  "nbformat_minor": 0,
  "metadata": {
    "colab": {
      "provenance": [],
      "authorship_tag": "ABX9TyO60w7PgjXIHB6PvOrljkJa",
      "include_colab_link": true
    },
    "kernelspec": {
      "name": "python3",
      "display_name": "Python 3"
    },
    "language_info": {
      "name": "python"
    }
  },
  "cells": [
    {
      "cell_type": "markdown",
      "metadata": {
        "id": "view-in-github",
        "colab_type": "text"
      },
      "source": [
        "<a href=\"https://colab.research.google.com/github/peta-byte/colab/blob/master/Chapter_14_Answers.ipynb\" target=\"_parent\"><img src=\"https://colab.research.google.com/assets/colab-badge.svg\" alt=\"Open In Colab\"/></a>"
      ]
    },
    {
      "cell_type": "code",
      "source": [
        "import numpy as np\n",
        "import scipy.stats as stats"
      ],
      "metadata": {
        "id": "bxiu9w8X1DQP"
      },
      "execution_count": null,
      "outputs": []
    },
    {
      "cell_type": "code",
      "source": [
        "# Question 1\n",
        "\n",
        "# Does the median of the population for this sample exceed 30?\n",
        "\n",
        "data = np.array([37,26,31,35,32,32,27,31,34,36])\n",
        "\n",
        "# Diffs from 30\n",
        "\n",
        "diffs = data.copy()\n",
        "diffs[:] = 30 - diffs\n",
        "\n",
        "negatives_count = len(diffs[list(map(lambda x: x < 0, diffs))])\n",
        "positives_count = len(diffs[list(map(lambda x: x > 0, diffs))])\n",
        "\n",
        "n = negatives_count + positives_count\n",
        "\n",
        "print(f\"Negative diffs: {negatives_count}\")\n",
        "print(f\"Positive diffs: {positives_count}\")\n",
        "\n"
      ],
      "metadata": {
        "colab": {
          "base_uri": "https://localhost:8080/"
        },
        "id": "a8MNhAwg0iWA",
        "outputId": "22784b9e-0c72-4856-d517-569e69ce06ec"
      },
      "execution_count": null,
      "outputs": [
        {
          "output_type": "stream",
          "name": "stdout",
          "text": [
            "Negative diffs: 8\n",
            "Positive diffs: 2\n"
          ]
        }
      ]
    },
    {
      "cell_type": "code",
      "source": [
        "# a) Find the exact P-value for the sign test and find the normal approximation to it.\n",
        "\n",
        "\n",
        "# Binomial test\n",
        "\n",
        "results = stats.binomtest(positives_count, n, p=0.5, alternative=\"greater\")\n",
        "\n",
        "print(f\"P-value: {results.pvalue: .4f}\")\n",
        "\n",
        "#  Is the normal approximation accurate?\n",
        "\n",
        "p = 0.5\n",
        "mu = n * p\n",
        "\n",
        "if positives_count < mu:\n",
        "    z = (positives_count + 0.5 - mu) / np.sqrt(n*p*(1-p))\n",
        "else:\n",
        "    z = (positives_count - 0.5 - mu) / np.sqrt(n*p*(1-p))\n",
        "\n",
        "p_value = stats.norm.sf(z)\n",
        "\n",
        "print(f\"Normal approximation p-value is {p_value: .4f}. It is less than the exact p-value from the binomial test.\")\n",
        "\n",
        "# Can you reject H0 at alpha = 0.05?\n",
        "if results.pvalue < 0.05:\n",
        "    print(\"Reject H0. We can conclude that the population median does exceed 30.\")\n",
        "else:\n",
        "    print(\"Fail to reject H0. Not enough evidence to conclude that the population median exceeds 30.\")"
      ],
      "metadata": {
        "colab": {
          "base_uri": "https://localhost:8080/"
        },
        "id": "z9GW1wms2zMc",
        "outputId": "6c96086d-8dec-43ed-f242-b65e7337334a"
      },
      "execution_count": null,
      "outputs": [
        {
          "output_type": "stream",
          "name": "stdout",
          "text": [
            "P-value:  0.9893\n",
            "Normal approximation p-value is  0.9431. It is less than the exact p-value from the binomial test.\n",
            "Fail to reject H0. Not enough evidence to conclude that the population median exceeds 30.\n"
          ]
        }
      ]
    },
    {
      "cell_type": "code",
      "source": [
        "# b) Repeat (a) using the Wilcoxon signed rank test.\n",
        "\n",
        "results_wilc = stats.wilcoxon(diffs[list(map(lambda x: x != 0, diffs))], alternative=\"greater\", method=\"exact\")\n",
        "\n",
        "print(f\"P-value: {results.pvalue: .4f}\")\n",
        "\n",
        "# Can you reject H0 at alpha = 0.05?\n",
        "\n",
        "if results_wilc.pvalue < 0.05:\n",
        "    print(\"Reject H0. We can conclude that the population median does exceed 30.\")\n",
        "else:\n",
        "    print(\"Fail to reject H0. Not enough evidence to conclude that the population median exceeds 30.\")"
      ],
      "metadata": {
        "colab": {
          "base_uri": "https://localhost:8080/"
        },
        "id": "xnpEiDge9kNE",
        "outputId": "74d864e9-35bf-4083-fdb4-40422cd276a4"
      },
      "execution_count": null,
      "outputs": [
        {
          "output_type": "stream",
          "name": "stdout",
          "text": [
            "P-value:  0.9893\n",
            "Fail to reject H0. Not enough evidence to conclude that the population median exceeds 30.\n"
          ]
        }
      ]
    },
    {
      "cell_type": "code",
      "source": [
        "# Question 2\n",
        "\n",
        "# Data - gain in IQ\n",
        "\n",
        "treated_IQ = np.array([14,26,2,4,-5,14,3,-1,1,6,3,4])\n",
        "control_IQ = np.array([8,18,-7,-1,2,9,0,-4,13,3,3,3])\n",
        "\n",
        "diffs_IQ = treated_IQ - control_IQ\n",
        "\n",
        "negatives_IQ_count = len(diffs_IQ[list(map(lambda x: x < 0, diffs_IQ))])\n",
        "positives_IQ_count = len(diffs_IQ[list(map(lambda x: x > 0, diffs_IQ))])\n",
        "\n",
        "n = negatives_IQ_count + positives_IQ_count\n",
        "\n",
        "print(diffs_IQ)\n",
        "\n",
        "print(f\"Negative diffs: {negatives_IQ_count}\")\n",
        "print(f\"Positive diffs: {positives_IQ_count}\")"
      ],
      "metadata": {
        "colab": {
          "base_uri": "https://localhost:8080/"
        },
        "id": "lf4FPRtQ979S",
        "outputId": "143d94bb-2b6d-44fa-c974-95b8a813a3fb"
      },
      "execution_count": null,
      "outputs": [
        {
          "output_type": "stream",
          "name": "stdout",
          "text": [
            "[  6   8   9   5  -7   5   3   3 -12   3   0   1]\n",
            "Negative diffs: 2\n",
            "Positive diffs: 9\n"
          ]
        }
      ]
    },
    {
      "cell_type": "code",
      "source": [
        "# a) Find the exact p-value for the sign-tests to determine if vit B improves IQ\n",
        "\n",
        "results_IQ = stats.binomtest(positives_count, n, p=0.5, alternative=\"greater\")\n",
        "\n",
        "print(f\"Sign test p-value: {results_IQ.pvalue: .4f}\")\n"
      ],
      "metadata": {
        "colab": {
          "base_uri": "https://localhost:8080/"
        },
        "id": "BxJGWD6j_h8n",
        "outputId": "31fd3977-d697-4224-f7a9-962a35e30346"
      },
      "execution_count": null,
      "outputs": [
        {
          "output_type": "stream",
          "name": "stdout",
          "text": [
            "Sign test p-value:  0.9941\n"
          ]
        }
      ]
    },
    {
      "cell_type": "code",
      "source": [
        "# b) Repeat (a) using the Wilcoxon signed rank test. Why is a less significant result obtained in this case?\n",
        "\n",
        "results_IQ_wilc = stats.wilcoxon(diffs_IQ[list(map(lambda x: x != 0, diffs_IQ))], alternative=\"greater\", method=\"exact\")\n",
        "\n",
        "print(f\"Wilcoxon signed rank test p-value: {results_IQ_wilc.pvalue: .4f}\")\n",
        "print(\"The results of the Wilcoxon might be less significant because the magnitude of the negative diffs affected the ranking. Despite there being more positive diffs.\")"
      ],
      "metadata": {
        "colab": {
          "base_uri": "https://localhost:8080/"
        },
        "id": "flkrqx5CCTm3",
        "outputId": "4ec4cd66-07d0-4382-ca63-a89cca6d20f6"
      },
      "execution_count": null,
      "outputs": [
        {
          "output_type": "stream",
          "name": "stdout",
          "text": [
            "Wilcoxon signed rank test p-value:  0.1201\n",
            "The results of the Wilcoxon might be less significant because the magnitude of the negative diffs affected the ranking. Despite there being more positive diffs.\n"
          ]
        }
      ]
    },
    {
      "cell_type": "code",
      "source": [
        "# Question 11\n",
        "\n",
        "# Data - mice survival times\n",
        "\n",
        "treatment_mice = np.array([94,197,16,38,99,141,23])\n",
        "control_mice = np.array([52,104,146,10,50,31,40,27,46])\n",
        "\n",
        "# Did the treatment prolong survival. Use Wilcoxon-Mann-Whitney test.\n",
        "\n",
        "alpha = 0.10\n",
        "\n",
        "results_mice = stats.mannwhitneyu(treatment_mice, control_mice, alternative=\"greater\", method=\"exact\")\n",
        "\n",
        "print(f\"P-value: {results_mice.pvalue: .4f}\")\n",
        "\n",
        "if results_mice.pvalue < alpha:\n",
        "    print(\"Reject H0. We can conclude that the treatment prolongs survival.\")\n",
        "else:\n",
        "    print(\"Fail to reject H0. Not enough evidence to conclude that the treatment prolongs survival.\")"
      ],
      "metadata": {
        "colab": {
          "base_uri": "https://localhost:8080/"
        },
        "id": "jk5hD68SCx-W",
        "outputId": "abc8dae3-e474-40a5-f9fe-25d99f27d815"
      },
      "execution_count": null,
      "outputs": [
        {
          "output_type": "stream",
          "name": "stdout",
          "text": [
            "P-value:  0.3403\n",
            "Fail to reject H0. Not enough evidence to conclude that the treatment prolongs survival.\n"
          ]
        }
      ]
    },
    {
      "cell_type": "code",
      "source": [
        "# Question 12\n",
        "\n",
        "\n",
        "psychotic = np.array([0.0150,0.0204,0.0208,0.222,0.0226,0.0245,0.0270,0.0275,0.0306,0.0320])\n",
        "nonpsychotic = np.array([0.0104,0.0105,0.0112,0.0116,0.0130,0.0145,0.0154,0.0156,0.0170,0.0180,0.0200,0.0200,0.0210,0.0230,0.0252])\n",
        "\n",
        "print(psychotic.shape, nonpsychotic.shape)\n",
        "\n",
        "alpha = 0.05\n",
        "\n",
        "# Apply the Wilcoxon-Mann-Whitney test.\n",
        "# Is there a significant difference between the dopamine levels of the psychotic and nonpsychotic patients.\n",
        "\n",
        "results_dopamine = stats.mannwhitneyu(psychotic, nonpsychotic, alternative=\"greater\", method=\"exact\")\n",
        "\n",
        "print(f\"P-value: {results_dopamine.pvalue: .4f}\")\n",
        "\n",
        "if results_dopamine.pvalue < alpha:\n",
        "    print(\"Reject H0. We can conclude that there is a significant difference between the dopamine levels of the psychotic and nonpsychotic patients.\")\n",
        "else:\n",
        "    print(\"Fail to reject H0. Not enough evidence to conclude that there is a significant difference between the dopamine levels of the psychotic and nonpsychotic patients.\")\n"
      ],
      "metadata": {
        "colab": {
          "base_uri": "https://localhost:8080/"
        },
        "id": "xBMFZo3rI6fF",
        "outputId": "bc0b619b-1de7-475b-cfd3-f47227783382"
      },
      "execution_count": null,
      "outputs": [
        {
          "output_type": "stream",
          "name": "stdout",
          "text": [
            "(10,) (15,)\n",
            "P-value:  0.0004\n",
            "Reject H0. We can conclude that there is a significant difference between the dopamine levels of the psychotic and nonpsychotic patients.\n"
          ]
        }
      ]
    },
    {
      "cell_type": "code",
      "source": [
        "# Question 26\n",
        "\n",
        "x_rivet_holes = np.array([38,56,65,43,72,69,64,47,62,44])\n",
        "y_repairs = np.array([17,36,29,17,40,41,36,13,31,19])\n",
        "\n",
        "# Is there a positive association between the 2 variables using Spearman's and Kendall's rank correlation coefficients.\n",
        "\n",
        "# Spearman's\n",
        "results_spearman = stats.spearmanr(x_rivet_holes, y_repairs)\n",
        "\n",
        "# Kendall's\n",
        "results_kendall = stats.kendalltau(x_rivet_holes, y_repairs)\n",
        "\n",
        "print(f\"Spearman's correlation is {results_spearman.correlation:.4f} signifying a strong positive correlation between the 2 variables.\")\n",
        "print(f\"Kendall's correlation is {results_kendall.correlation:.4f} signifying a strong positive correlation between the 2 variables.\")\n"
      ],
      "metadata": {
        "colab": {
          "base_uri": "https://localhost:8080/"
        },
        "id": "iQ2eoWDfLLPp",
        "outputId": "31094d2e-bfd1-45f4-e16c-b152d2f97a40"
      },
      "execution_count": null,
      "outputs": [
        {
          "output_type": "stream",
          "name": "stdout",
          "text": [
            "Spearman's correlation is 0.8171 signifying a strong positive correlation between the 2 variables.\n",
            "Kendall's correlation is 0.6138 signifying a strong positive correlation between the 2 variables.\n"
          ]
        }
      ]
    },
    {
      "cell_type": "code",
      "source": [
        "# Compare the magnitudes of the 2 coefficients and their observed levels of significance.\n",
        "\n",
        "print(f\"Spearman's correlation coefficient has a larger magnitude compared to Kendall's and its p-value: {results_spearman.pvalue: .4f} is more significant compared to Kendall's: {results_kendall.pvalue: .4f}\")\n",
        "print(f\"Kendall's p-value: {results_kendall.pvalue: .4f}\")"
      ],
      "metadata": {
        "colab": {
          "base_uri": "https://localhost:8080/"
        },
        "id": "6qwz6hUCMDLH",
        "outputId": "4d69a68f-acf7-4a46-8646-5d5bf6b866c6"
      },
      "execution_count": null,
      "outputs": [
        {
          "output_type": "stream",
          "name": "stdout",
          "text": [
            "Spearman's correlation coefficient has a larger magnitude compared to Kendall's and its p-value:  0.0039 is more significant compared to Kendall's:  0.0149\n",
            "Kendall's p-value:  0.0149\n"
          ]
        }
      ]
    },
    {
      "cell_type": "code",
      "source": [
        "# Question\n",
        "\n",
        "x_year = np.array([1960,1964,1968,1972,1976,1980,1984,1988,1992,1996])\n",
        "\n",
        "y_voter_participation = np.array([62.8,61.9,60.9,55.2,53.5,54.0,53.1,50.2,55.9,49.0])\n",
        "\n",
        "# Test for decreasing trend in participation using the 2 rank correlation methods.\n",
        "\n",
        "alpha = 0.05\n",
        "\n",
        "# Spearman's\n",
        "voter_results_spearman = stats.spearmanr(x_year, y_voter_participation)\n",
        "\n",
        "# Kendall's\n",
        "voter_results_kendall = stats.kendalltau(x_year, y_voter_participation)\n",
        "\n",
        "\n",
        "print(f\"Spearman's correlation is {voter_results_spearman.correlation:.4f} signifying a strong negative correlation between the 2 variables.\")\n",
        "print(f\"Kendall's correlation is {voter_results_kendall.correlation:.4f} signifying a strong negative correlation between the 2 variables.\")"
      ],
      "metadata": {
        "colab": {
          "base_uri": "https://localhost:8080/"
        },
        "id": "-5-xsQBLQv65",
        "outputId": "0048a182-5654-40d1-d8b2-6dec2dc1383b"
      },
      "execution_count": null,
      "outputs": [
        {
          "output_type": "stream",
          "name": "stdout",
          "text": [
            "Spearman's correlation is -0.8061 signifying a strong negative correlation between the 2 variables.\n",
            "Kendall's correlation is -0.7333 signifying a strong negative correlation between the 2 variables.\n"
          ]
        }
      ]
    },
    {
      "cell_type": "code",
      "source": [
        "if voter_results_kendall.pvalue < alpha:\n",
        "  print(\"There is a significant decrease in voter participation since 1960.\")\n",
        "else:\n",
        "  print(\"There is no significant decrease in voter participation since 1960.\")\n",
        "\n",
        "\n",
        "if voter_results_spearman.pvalue < alpha:\n",
        "  print(\"There is a significant decrease in voter participation since 1960.\")\n",
        "else:\n",
        "  print(\"There is no significant decrease in voter participation since 1960.\")"
      ],
      "metadata": {
        "colab": {
          "base_uri": "https://localhost:8080/"
        },
        "id": "MMbRk57lb9D-",
        "outputId": "e5c9bd0c-0f5a-4e73-bdf9-92f556a5f451"
      },
      "execution_count": null,
      "outputs": [
        {
          "output_type": "stream",
          "name": "stdout",
          "text": [
            "There is a significant decrease in voter participation since 1960.\n",
            "There is a significant decrease in voter participation since 1960.\n"
          ]
        }
      ]
    }
  ]
}